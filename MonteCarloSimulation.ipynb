{
  "nbformat": 4,
  "nbformat_minor": 0,
  "metadata": {
    "colab": {
      "provenance": [],
      "authorship_tag": "ABX9TyNNlzbupSQG5TWEX6N2WJsL",
      "include_colab_link": true
    },
    "kernelspec": {
      "name": "python3",
      "display_name": "Python 3"
    },
    "language_info": {
      "name": "python"
    }
  },
  "cells": [
    {
      "cell_type": "markdown",
      "metadata": {
        "id": "view-in-github",
        "colab_type": "text"
      },
      "source": [
        "<a href=\"https://colab.research.google.com/github/20170702079/benchmarking-gnns/blob/master/MonteCarloSimulation.ipynb\" target=\"_parent\"><img src=\"https://colab.research.google.com/assets/colab-badge.svg\" alt=\"Open In Colab\"/></a>"
      ]
    },
    {
      "cell_type": "markdown",
      "source": [
        "1. Generate Synthetic Data:"
      ],
      "metadata": {
        "id": "vm0vXhwavs0B"
      }
    },
    {
      "cell_type": "code",
      "execution_count": 45,
      "metadata": {
        "id": "I4hQ6W6QBCko"
      },
      "outputs": [],
      "source": [
        "import numpy as np\n",
        "from scipy.stats import poisson, gamma\n",
        "from scipy.optimize import minimize\n",
        "\n",
        "def f(x, theta):\n",
        "    return (1 / theta) * (np.log(theta)**x) / np.math.factorial(x)\n",
        "\n",
        "def F(x, theta):\n",
        "    return sum(f(k, theta) for k in range(x + 1))\n",
        "\n",
        "\n",
        "def generate_data(theta, n):\n",
        "    return np.random.poisson(np.log(theta), n)\n",
        "\n",
        "theta_true = 5.0  # 3.0  # Example true value of theta\n",
        "N = 1000  # Number of datasets\n",
        "n = 500  # Sample size for each dataset\n",
        "\n",
        "datasets = [generate_data(theta_true, n) for _ in range(N)]\n"
      ]
    },
    {
      "cell_type": "markdown",
      "source": [
        "2. Estimate $\\theta$"
      ],
      "metadata": {
        "id": "5XiUyyyovxti"
      }
    },
    {
      "cell_type": "code",
      "source": [
        "def mle_estimator(data):\n",
        "    return np.exp(np.mean(data))\n",
        "\n",
        "def umvue_estimator(data):\n",
        "    return np.exp(np.mean(data))\n",
        "\n",
        "# Assuming gamma prior with alpha=2, beta=1\n",
        "from scipy.stats import gamma\n",
        "\n",
        "alpha_prior = 2\n",
        "beta_prior = 1\n",
        "\n",
        "def bayesian_estimator(data):\n",
        "    alpha_post = alpha_prior + len(data)\n",
        "    beta_post = beta_prior + np.sum(data) / np.log(theta_true)\n",
        "    return (alpha_post - 1) / beta_post\n",
        "\n",
        "mle_estimates = [mle_estimator(data) for data in datasets]\n",
        "umvue_estimates = [umvue_estimator(data) for data in datasets]\n",
        "bayesian_estimates = [bayesian_estimator(data) for data in datasets]"
      ],
      "metadata": {
        "id": "zd0E9gaYBa9K"
      },
      "execution_count": 46,
      "outputs": []
    },
    {
      "cell_type": "code",
      "source": [
        "def ls_estimator(data):\n",
        "    # Define the least squares objective function\n",
        "    def objective(theta):\n",
        "        expected_frequencies = poisson.pmf(np.arange(max(data) + 1), np.log(theta)) * len(data)\n",
        "        observed_frequencies = np.histogram(data, bins=np.arange(max(data) + 2))[0]\n",
        "        return np.sum((observed_frequencies - expected_frequencies) ** 2)\n",
        "\n",
        "    from scipy.optimize import minimize\n",
        "    result = minimize(objective, x0=[np.mean(data)], bounds=[(1.1, None)])\n",
        "    return result.x[0]\n",
        "\n",
        "def wls_estimator(data):\n",
        "    # Define the weighted least squares objective function\n",
        "    def objective(theta):\n",
        "        expected_frequencies = poisson.pmf(np.arange(max(data) + 1), np.log(theta)) * len(data)\n",
        "        observed_frequencies = np.histogram(data, bins=np.arange(max(data) + 2))[0]\n",
        "        weights = 1 / (expected_frequencies + 1)  # Avoid division by zero\n",
        "        return np.sum(weights * (observed_frequencies - expected_frequencies) ** 2)\n",
        "\n",
        "    from scipy.optimize import minimize\n",
        "    result = minimize(objective, x0=[np.mean(data)], bounds=[(1.1, None)])\n",
        "    return result.x[0]\n",
        "\n",
        "ls_estimates = [ls_estimator(data) for data in datasets]\n",
        "wls_estimates = [wls_estimator(data) for data in datasets]\n"
      ],
      "metadata": {
        "id": "o9viv0Fv0pj7"
      },
      "execution_count": 47,
      "outputs": []
    },
    {
      "cell_type": "code",
      "source": [
        "def mps_estimator(data):\n",
        "    def objective(theta):\n",
        "        sorted_data = np.sort(data)\n",
        "        n = len(data)\n",
        "        spacings = [(F(sorted_data[i], theta) - F(sorted_data[i-1], theta)) for i in range(1, n)]\n",
        "        spacings.append(1 - F(sorted_data[-1], theta))  # The spacing beyond the largest observation\n",
        "        return -np.sum(np.log(spacings))  # Negative log to minimize\n",
        "\n",
        "    from scipy.optimize import minimize\n",
        "    result = minimize(objective, x0=[2.0], bounds=[(1.1, None)])  # Starting point and bounds for theta\n",
        "    return result.x[0]\n",
        "\n",
        "\n",
        "def ade_estimator(data):\n",
        "    def objective(theta):\n",
        "        sorted_data = np.sort(data)\n",
        "        n = len(data)\n",
        "        AD_stat = 0\n",
        "        for i in range(n):\n",
        "            F_i = F(sorted_data[i], theta)\n",
        "            AD_stat += (2*i + 1) * (np.log(F_i) + np.log(1 - F(sorted_data[n-i-1], theta)))\n",
        "        AD_stat = -n - (1/n) * AD_stat\n",
        "        return AD_stat\n",
        "\n",
        "    from scipy.optimize import minimize\n",
        "    result = minimize(objective, x0=[2.0], bounds=[(1.1, None)])  # Starting point and bounds for theta\n",
        "    return result.x[0]\n",
        "\n",
        "\n",
        "mps_estimates = [mps_estimator(data) for data in datasets]  # Placeholder\n",
        "ade_estimates = [ade_estimator(data) for data in datasets]  # Placeholder\n"
      ],
      "metadata": {
        "colab": {
          "base_uri": "https://localhost:8080/"
        },
        "id": "35cpt4mJ0MhS",
        "outputId": "f847ce53-b854-4a5d-9bc8-1ff62c15be13"
      },
      "execution_count": 48,
      "outputs": [
        {
          "output_type": "stream",
          "name": "stderr",
          "text": [
            "<ipython-input-45-c6a8f564c9fe>:6: DeprecationWarning: `np.math` is a deprecated alias for the standard library `math` module (Deprecated Numpy 1.25). Replace usages of `np.math` with `math`\n",
            "  return (1 / theta) * (np.log(theta)**x) / np.math.factorial(x)\n",
            "<ipython-input-48-93548369ae77>:7: RuntimeWarning: divide by zero encountered in log\n",
            "  return -np.sum(np.log(spacings))  # Negative log to minimize\n"
          ]
        }
      ]
    },
    {
      "cell_type": "code",
      "source": [
        "# print(mle_estimates)\n",
        "\n",
        "\n",
        "# print(list(map(lambda x: x - 13, mle_estimates)))\n",
        "# print(map(lambda x: x - 13, mle_estimates))"
      ],
      "metadata": {
        "id": "1cFbYSnt45L3"
      },
      "execution_count": 6,
      "outputs": []
    },
    {
      "cell_type": "markdown",
      "source": [
        "3. Calculate Bias and MSE:"
      ],
      "metadata": {
        "id": "wj_7NrN8v6D7"
      }
    },
    {
      "cell_type": "code",
      "source": [
        "def calculate_bias_mse(estimates, theta_true):\n",
        "    bias = np.mean(estimates) - theta_true\n",
        "    temp_value = list(map(lambda x: x - theta_true, estimates))\n",
        "    mse = np.mean(list(map(lambda x: x ** 2, estimates)))\n",
        "    return bias, mse\n",
        "\n",
        "bias_mle, mse_mle = calculate_bias_mse(mle_estimates, theta_true)\n",
        "bias_umvue, mse_umvue = calculate_bias_mse(umvue_estimates, theta_true)\n",
        "bias_bayesian, mse_bayesian = calculate_bias_mse(bayesian_estimates, theta_true)\n",
        "\n",
        "print(f\"MLE Bias: {bias_mle}, MSE: {mse_mle}\")\n",
        "print(f\"UMVUE Bias: {bias_umvue}, MSE: {mse_umvue}\")\n",
        "print(f\"Bayesian Bias: {bias_bayesian}, MSE: {mse_bayesian}\")\n"
      ],
      "metadata": {
        "id": "sMvYRtX4Bbs0",
        "colab": {
          "base_uri": "https://localhost:8080/"
        },
        "outputId": "002b6eb0-7c5d-42bd-f0a0-0b4d92f79f23"
      },
      "execution_count": 49,
      "outputs": [
        {
          "output_type": "stream",
          "name": "stdout",
          "text": [
            "MLE Bias: 0.02103851382005839, MSE: 25.288006618104934\n",
            "UMVUE Bias: 0.02103851382005839, MSE: 25.288006618104934\n",
            "Bayesian Bias: -4.000473564911911, MSE: 1.0002379301302886\n"
          ]
        }
      ]
    },
    {
      "cell_type": "code",
      "source": [
        "bias_ls, mse_ls = calculate_bias_mse(ls_estimates, theta_true)\n",
        "bias_wls, mse_wls = calculate_bias_mse(wls_estimates, theta_true)\n",
        "bias_mps, mse_mps = calculate_bias_mse(mps_estimates, theta_true)\n",
        "bias_ade, mse_ade = calculate_bias_mse(ade_estimates, theta_true)\n",
        "\n",
        "\n",
        "print(f\"LS Bias: {bias_ls}, MSE: {mse_ls}\")\n",
        "print(f\"WLS Bias: {bias_wls}, MSE: {mse_wls}\")\n",
        "print(f\"MPS Bias: {bias_mps}, MSE: {mse_mps}\")\n",
        "print(f\"ADE Bias: {bias_ade}, MSE: {mse_ade}\")\n"
      ],
      "metadata": {
        "colab": {
          "base_uri": "https://localhost:8080/"
        },
        "id": "rWEBY_uq4t8X",
        "outputId": "1f08e158-1867-4062-f306-287ae8558190"
      },
      "execution_count": 50,
      "outputs": [
        {
          "output_type": "stream",
          "name": "stdout",
          "text": [
            "LS Bias: 0.01990265114294587, MSE: 25.305021508694924\n",
            "WLS Bias: 0.0639685587440244, MSE: 25.725895804067676\n",
            "MPS Bias: -3.0, MSE: 4.0\n",
            "ADE Bias: 3.4619999152249132, MSE: 71.82725682068727\n"
          ]
        }
      ]
    },
    {
      "cell_type": "markdown",
      "source": [
        "-----------------------------------------------------------------------------------------------\n",
        "\n",
        "Another Version"
      ],
      "metadata": {
        "id": "4Avn8uqU8NyM"
      }
    },
    {
      "cell_type": "code",
      "source": [
        "import numpy as np\n",
        "from scipy.optimize import minimize\n",
        "from scipy.special import factorial\n",
        "import matplotlib.pyplot as plt\n",
        "\n",
        "# Define the pmf function\n",
        "def pmf(x, theta):\n",
        "    return (1/theta) * (np.log(theta)**x) / factorial(x)\n",
        "\n",
        "# Generate synthetic data\n",
        "def generate_data(theta, size):\n",
        "    data = []\n",
        "    for _ in range(size):\n",
        "        x = 0\n",
        "        u = np.random.uniform(0, 1)\n",
        "        cum_prob = pmf(x, theta)\n",
        "        while u > cum_prob:\n",
        "            x += 1\n",
        "            cum_prob += pmf(x, theta)\n",
        "        data.append(x)\n",
        "    return np.array(data)\n",
        "\n",
        "# MLE function\n",
        "def log_likelihood(theta, data):\n",
        "    return -len(data) * np.log(theta) + np.sum(data * np.log(np.log(theta)))\n",
        "\n",
        "def mle_estimate(data):\n",
        "    result = minimize(lambda theta: -log_likelihood(theta, data), x0=[2.0], bounds=[(1.1, None)])\n",
        "    return result.x[0]\n",
        "\n",
        "# Least Squares Estimation\n",
        "def ls_estimate(data):\n",
        "    observed_freq = np.bincount(data)\n",
        "    observed_freq = observed_freq / len(data)\n",
        "    x_values = np.arange(len(observed_freq))\n",
        "\n",
        "    def ls_function(theta):\n",
        "        expected_freq = pmf(x_values, theta)\n",
        "        return np.sum((observed_freq - expected_freq)**2)\n",
        "\n",
        "    result = minimize(ls_function, x0=[2.0], bounds=[(1.1, None)])\n",
        "    return result.x[0]\n",
        "\n",
        "# Bayesian Estimation\n",
        "def bayesian_estimate(data, prior_mean=2, prior_std=1):\n",
        "    from scipy.stats import norm\n",
        "\n",
        "    def posterior(theta):\n",
        "        prior = norm.pdf(theta, prior_mean, prior_std)\n",
        "        likelihood = np.prod([pmf(x, theta) for x in data])\n",
        "        return prior * likelihood\n",
        "\n",
        "    theta_range = np.linspace(1.1, 5, 1000)\n",
        "    posterior_values = [posterior(theta) for theta in theta_range]\n",
        "    return theta_range[np.argmax(posterior_values)]\n",
        "\n",
        "# Monte Carlo Simulation\n",
        "true_theta = 2.5\n",
        "num_simulations = 1000\n",
        "sample_size = 100\n",
        "\n",
        "mle_estimates = []\n",
        "ls_estimates = []\n",
        "bayesian_estimates = []\n",
        "\n",
        "for _ in range(num_simulations):\n",
        "    data = generate_data(true_theta, sample_size)\n",
        "    mle_estimates.append(mle_estimate(data))\n",
        "    ls_estimates.append(ls_estimate(data))\n",
        "    bayesian_estimates.append(bayesian_estimate(data))\n",
        "\n",
        "# Calculate bias and MSE\n",
        "def calculate_bias_mse(estimates, true_value):\n",
        "    bias = np.mean(estimates) - true_value\n",
        "    mse = np.mean((estimates - true_value)**2)\n",
        "    return bias, mse\n",
        "\n",
        "mle_bias, mle_mse = calculate_bias_mse(mle_estimates, true_theta)\n",
        "ls_bias, ls_mse = calculate_bias_mse(ls_estimates, true_theta)\n",
        "bayesian_bias, bayesian_mse = calculate_bias_mse(bayesian_estimates, true_theta)\n",
        "\n",
        "print(f\"MLE Bias: {mle_bias}, MSE: {mle_mse}\")\n",
        "print(f\"LS Bias: {ls_bias}, MSE: {ls_mse}\")\n",
        "print(f\"Bayesian Bias: {bayesian_bias}, MSE: {bayesian_mse}\")\n",
        "\n",
        "# Plotting the distribution of estimates\n",
        "plt.hist(mle_estimates, bins=30, alpha=0.5, label='MLE')\n",
        "plt.hist(ls_estimates, bins=30, alpha=0.5, label='LS')\n",
        "plt.hist(bayesian_estimates, bins=30, alpha=0.5, label='Bayesian')\n",
        "plt.axvline(true_theta, color='r', linestyle='dashed', linewidth=2, label='True θ')\n",
        "plt.title('Distribution of θ Estimates')\n",
        "plt.xlabel('Estimated θ')\n",
        "plt.ylabel('Frequency')\n",
        "plt.legend()\n",
        "plt.show()\n"
      ],
      "metadata": {
        "colab": {
          "base_uri": "https://localhost:8080/",
          "height": 365
        },
        "id": "0e2hURYK3sPX",
        "outputId": "d78fd911-cde2-47ce-885b-f0237a8d72b4"
      },
      "execution_count": null,
      "outputs": [
        {
          "output_type": "error",
          "ename": "KeyboardInterrupt",
          "evalue": "",
          "traceback": [
            "\u001b[0;31m---------------------------------------------------------------------------\u001b[0m",
            "\u001b[0;31mKeyboardInterrupt\u001b[0m                         Traceback (most recent call last)",
            "\u001b[0;32m<ipython-input-30-c572e155e046>\u001b[0m in \u001b[0;36m<cell line: 66>\u001b[0;34m()\u001b[0m\n\u001b[1;32m     68\u001b[0m     \u001b[0mmle_estimates\u001b[0m\u001b[0;34m.\u001b[0m\u001b[0mappend\u001b[0m\u001b[0;34m(\u001b[0m\u001b[0mmle_estimate\u001b[0m\u001b[0;34m(\u001b[0m\u001b[0mdata\u001b[0m\u001b[0;34m)\u001b[0m\u001b[0;34m)\u001b[0m\u001b[0;34m\u001b[0m\u001b[0;34m\u001b[0m\u001b[0m\n\u001b[1;32m     69\u001b[0m     \u001b[0mls_estimates\u001b[0m\u001b[0;34m.\u001b[0m\u001b[0mappend\u001b[0m\u001b[0;34m(\u001b[0m\u001b[0mls_estimate\u001b[0m\u001b[0;34m(\u001b[0m\u001b[0mdata\u001b[0m\u001b[0;34m)\u001b[0m\u001b[0;34m)\u001b[0m\u001b[0;34m\u001b[0m\u001b[0;34m\u001b[0m\u001b[0m\n\u001b[0;32m---> 70\u001b[0;31m     \u001b[0mbayesian_estimates\u001b[0m\u001b[0;34m.\u001b[0m\u001b[0mappend\u001b[0m\u001b[0;34m(\u001b[0m\u001b[0mbayesian_estimate\u001b[0m\u001b[0;34m(\u001b[0m\u001b[0mdata\u001b[0m\u001b[0;34m)\u001b[0m\u001b[0;34m)\u001b[0m\u001b[0;34m\u001b[0m\u001b[0;34m\u001b[0m\u001b[0m\n\u001b[0m\u001b[1;32m     71\u001b[0m \u001b[0;34m\u001b[0m\u001b[0m\n\u001b[1;32m     72\u001b[0m \u001b[0;31m# Calculate bias and MSE\u001b[0m\u001b[0;34m\u001b[0m\u001b[0;34m\u001b[0m\u001b[0m\n",
            "\u001b[0;32m<ipython-input-30-c572e155e046>\u001b[0m in \u001b[0;36mbayesian_estimate\u001b[0;34m(data, prior_mean, prior_std)\u001b[0m\n\u001b[1;32m     52\u001b[0m \u001b[0;34m\u001b[0m\u001b[0m\n\u001b[1;32m     53\u001b[0m     \u001b[0mtheta_range\u001b[0m \u001b[0;34m=\u001b[0m \u001b[0mnp\u001b[0m\u001b[0;34m.\u001b[0m\u001b[0mlinspace\u001b[0m\u001b[0;34m(\u001b[0m\u001b[0;36m1.1\u001b[0m\u001b[0;34m,\u001b[0m \u001b[0;36m5\u001b[0m\u001b[0;34m,\u001b[0m \u001b[0;36m1000\u001b[0m\u001b[0;34m)\u001b[0m\u001b[0;34m\u001b[0m\u001b[0;34m\u001b[0m\u001b[0m\n\u001b[0;32m---> 54\u001b[0;31m     \u001b[0mposterior_values\u001b[0m \u001b[0;34m=\u001b[0m \u001b[0;34m[\u001b[0m\u001b[0mposterior\u001b[0m\u001b[0;34m(\u001b[0m\u001b[0mtheta\u001b[0m\u001b[0;34m)\u001b[0m \u001b[0;32mfor\u001b[0m \u001b[0mtheta\u001b[0m \u001b[0;32min\u001b[0m \u001b[0mtheta_range\u001b[0m\u001b[0;34m]\u001b[0m\u001b[0;34m\u001b[0m\u001b[0;34m\u001b[0m\u001b[0m\n\u001b[0m\u001b[1;32m     55\u001b[0m     \u001b[0;32mreturn\u001b[0m \u001b[0mtheta_range\u001b[0m\u001b[0;34m[\u001b[0m\u001b[0mnp\u001b[0m\u001b[0;34m.\u001b[0m\u001b[0margmax\u001b[0m\u001b[0;34m(\u001b[0m\u001b[0mposterior_values\u001b[0m\u001b[0;34m)\u001b[0m\u001b[0;34m]\u001b[0m\u001b[0;34m\u001b[0m\u001b[0;34m\u001b[0m\u001b[0m\n\u001b[1;32m     56\u001b[0m \u001b[0;34m\u001b[0m\u001b[0m\n",
            "\u001b[0;32m<ipython-input-30-c572e155e046>\u001b[0m in \u001b[0;36m<listcomp>\u001b[0;34m(.0)\u001b[0m\n\u001b[1;32m     52\u001b[0m \u001b[0;34m\u001b[0m\u001b[0m\n\u001b[1;32m     53\u001b[0m     \u001b[0mtheta_range\u001b[0m \u001b[0;34m=\u001b[0m \u001b[0mnp\u001b[0m\u001b[0;34m.\u001b[0m\u001b[0mlinspace\u001b[0m\u001b[0;34m(\u001b[0m\u001b[0;36m1.1\u001b[0m\u001b[0;34m,\u001b[0m \u001b[0;36m5\u001b[0m\u001b[0;34m,\u001b[0m \u001b[0;36m1000\u001b[0m\u001b[0;34m)\u001b[0m\u001b[0;34m\u001b[0m\u001b[0;34m\u001b[0m\u001b[0m\n\u001b[0;32m---> 54\u001b[0;31m     \u001b[0mposterior_values\u001b[0m \u001b[0;34m=\u001b[0m \u001b[0;34m[\u001b[0m\u001b[0mposterior\u001b[0m\u001b[0;34m(\u001b[0m\u001b[0mtheta\u001b[0m\u001b[0;34m)\u001b[0m \u001b[0;32mfor\u001b[0m \u001b[0mtheta\u001b[0m \u001b[0;32min\u001b[0m \u001b[0mtheta_range\u001b[0m\u001b[0;34m]\u001b[0m\u001b[0;34m\u001b[0m\u001b[0;34m\u001b[0m\u001b[0m\n\u001b[0m\u001b[1;32m     55\u001b[0m     \u001b[0;32mreturn\u001b[0m \u001b[0mtheta_range\u001b[0m\u001b[0;34m[\u001b[0m\u001b[0mnp\u001b[0m\u001b[0;34m.\u001b[0m\u001b[0margmax\u001b[0m\u001b[0;34m(\u001b[0m\u001b[0mposterior_values\u001b[0m\u001b[0;34m)\u001b[0m\u001b[0;34m]\u001b[0m\u001b[0;34m\u001b[0m\u001b[0;34m\u001b[0m\u001b[0m\n\u001b[1;32m     56\u001b[0m \u001b[0;34m\u001b[0m\u001b[0m\n",
            "\u001b[0;32m<ipython-input-30-c572e155e046>\u001b[0m in \u001b[0;36mposterior\u001b[0;34m(theta)\u001b[0m\n\u001b[1;32m     48\u001b[0m     \u001b[0;32mdef\u001b[0m \u001b[0mposterior\u001b[0m\u001b[0;34m(\u001b[0m\u001b[0mtheta\u001b[0m\u001b[0;34m)\u001b[0m\u001b[0;34m:\u001b[0m\u001b[0;34m\u001b[0m\u001b[0;34m\u001b[0m\u001b[0m\n\u001b[1;32m     49\u001b[0m         \u001b[0mprior\u001b[0m \u001b[0;34m=\u001b[0m \u001b[0mnorm\u001b[0m\u001b[0;34m.\u001b[0m\u001b[0mpdf\u001b[0m\u001b[0;34m(\u001b[0m\u001b[0mtheta\u001b[0m\u001b[0;34m,\u001b[0m \u001b[0mprior_mean\u001b[0m\u001b[0;34m,\u001b[0m \u001b[0mprior_std\u001b[0m\u001b[0;34m)\u001b[0m\u001b[0;34m\u001b[0m\u001b[0;34m\u001b[0m\u001b[0m\n\u001b[0;32m---> 50\u001b[0;31m         \u001b[0mlikelihood\u001b[0m \u001b[0;34m=\u001b[0m \u001b[0mnp\u001b[0m\u001b[0;34m.\u001b[0m\u001b[0mprod\u001b[0m\u001b[0;34m(\u001b[0m\u001b[0;34m[\u001b[0m\u001b[0mpmf\u001b[0m\u001b[0;34m(\u001b[0m\u001b[0mx\u001b[0m\u001b[0;34m,\u001b[0m \u001b[0mtheta\u001b[0m\u001b[0;34m)\u001b[0m \u001b[0;32mfor\u001b[0m \u001b[0mx\u001b[0m \u001b[0;32min\u001b[0m \u001b[0mdata\u001b[0m\u001b[0;34m]\u001b[0m\u001b[0;34m)\u001b[0m\u001b[0;34m\u001b[0m\u001b[0;34m\u001b[0m\u001b[0m\n\u001b[0m\u001b[1;32m     51\u001b[0m         \u001b[0;32mreturn\u001b[0m \u001b[0mprior\u001b[0m \u001b[0;34m*\u001b[0m \u001b[0mlikelihood\u001b[0m\u001b[0;34m\u001b[0m\u001b[0;34m\u001b[0m\u001b[0m\n\u001b[1;32m     52\u001b[0m \u001b[0;34m\u001b[0m\u001b[0m\n",
            "\u001b[0;32m<ipython-input-30-c572e155e046>\u001b[0m in \u001b[0;36m<listcomp>\u001b[0;34m(.0)\u001b[0m\n\u001b[1;32m     48\u001b[0m     \u001b[0;32mdef\u001b[0m \u001b[0mposterior\u001b[0m\u001b[0;34m(\u001b[0m\u001b[0mtheta\u001b[0m\u001b[0;34m)\u001b[0m\u001b[0;34m:\u001b[0m\u001b[0;34m\u001b[0m\u001b[0;34m\u001b[0m\u001b[0m\n\u001b[1;32m     49\u001b[0m         \u001b[0mprior\u001b[0m \u001b[0;34m=\u001b[0m \u001b[0mnorm\u001b[0m\u001b[0;34m.\u001b[0m\u001b[0mpdf\u001b[0m\u001b[0;34m(\u001b[0m\u001b[0mtheta\u001b[0m\u001b[0;34m,\u001b[0m \u001b[0mprior_mean\u001b[0m\u001b[0;34m,\u001b[0m \u001b[0mprior_std\u001b[0m\u001b[0;34m)\u001b[0m\u001b[0;34m\u001b[0m\u001b[0;34m\u001b[0m\u001b[0m\n\u001b[0;32m---> 50\u001b[0;31m         \u001b[0mlikelihood\u001b[0m \u001b[0;34m=\u001b[0m \u001b[0mnp\u001b[0m\u001b[0;34m.\u001b[0m\u001b[0mprod\u001b[0m\u001b[0;34m(\u001b[0m\u001b[0;34m[\u001b[0m\u001b[0mpmf\u001b[0m\u001b[0;34m(\u001b[0m\u001b[0mx\u001b[0m\u001b[0;34m,\u001b[0m \u001b[0mtheta\u001b[0m\u001b[0;34m)\u001b[0m \u001b[0;32mfor\u001b[0m \u001b[0mx\u001b[0m \u001b[0;32min\u001b[0m \u001b[0mdata\u001b[0m\u001b[0;34m]\u001b[0m\u001b[0;34m)\u001b[0m\u001b[0;34m\u001b[0m\u001b[0;34m\u001b[0m\u001b[0m\n\u001b[0m\u001b[1;32m     51\u001b[0m         \u001b[0;32mreturn\u001b[0m \u001b[0mprior\u001b[0m \u001b[0;34m*\u001b[0m \u001b[0mlikelihood\u001b[0m\u001b[0;34m\u001b[0m\u001b[0;34m\u001b[0m\u001b[0m\n\u001b[1;32m     52\u001b[0m \u001b[0;34m\u001b[0m\u001b[0m\n",
            "\u001b[0;32m<ipython-input-30-c572e155e046>\u001b[0m in \u001b[0;36mpmf\u001b[0;34m(x, theta)\u001b[0m\n\u001b[1;32m      6\u001b[0m \u001b[0;31m# Define the pmf function\u001b[0m\u001b[0;34m\u001b[0m\u001b[0;34m\u001b[0m\u001b[0m\n\u001b[1;32m      7\u001b[0m \u001b[0;32mdef\u001b[0m \u001b[0mpmf\u001b[0m\u001b[0;34m(\u001b[0m\u001b[0mx\u001b[0m\u001b[0;34m,\u001b[0m \u001b[0mtheta\u001b[0m\u001b[0;34m)\u001b[0m\u001b[0;34m:\u001b[0m\u001b[0;34m\u001b[0m\u001b[0;34m\u001b[0m\u001b[0m\n\u001b[0;32m----> 8\u001b[0;31m     \u001b[0;32mreturn\u001b[0m \u001b[0;34m(\u001b[0m\u001b[0;36m1\u001b[0m\u001b[0;34m/\u001b[0m\u001b[0mtheta\u001b[0m\u001b[0;34m)\u001b[0m \u001b[0;34m*\u001b[0m \u001b[0;34m(\u001b[0m\u001b[0mnp\u001b[0m\u001b[0;34m.\u001b[0m\u001b[0mlog\u001b[0m\u001b[0;34m(\u001b[0m\u001b[0mtheta\u001b[0m\u001b[0;34m)\u001b[0m\u001b[0;34m**\u001b[0m\u001b[0mx\u001b[0m\u001b[0;34m)\u001b[0m \u001b[0;34m/\u001b[0m \u001b[0mfactorial\u001b[0m\u001b[0;34m(\u001b[0m\u001b[0mx\u001b[0m\u001b[0;34m)\u001b[0m\u001b[0;34m\u001b[0m\u001b[0;34m\u001b[0m\u001b[0m\n\u001b[0m\u001b[1;32m      9\u001b[0m \u001b[0;34m\u001b[0m\u001b[0m\n\u001b[1;32m     10\u001b[0m \u001b[0;31m# Generate synthetic data\u001b[0m\u001b[0;34m\u001b[0m\u001b[0;34m\u001b[0m\u001b[0m\n",
            "\u001b[0;31mKeyboardInterrupt\u001b[0m: "
          ]
        }
      ]
    },
    {
      "cell_type": "markdown",
      "source": [
        "Subtract a value from every number in a list in Python?"
      ],
      "metadata": {
        "id": "Z4eMKtz28ZG3"
      }
    },
    {
      "cell_type": "code",
      "source": [
        "a = [49, 51, 53, 56]\n",
        "\n",
        "a = [x - 13 for x in a]\n",
        "\n",
        "a = list(map(lambda x: x - 13, a))\n",
        "\n",
        "import numpy\n",
        "\n",
        "array = numpy.array([49, 51, 53, 56])\n",
        "array = array - 13\n",
        "\n",
        "for i in range(len(a)):\n",
        "  a[i] -= 13"
      ],
      "metadata": {
        "id": "HL50enoU8XYE"
      },
      "execution_count": null,
      "outputs": []
    },
    {
      "cell_type": "markdown",
      "source": [
        "How to convert Float to Int in Python?\n",
        "\n",
        "Method 1: Conversion using int():\n",
        "\n",
        "To convert a float value to int we make use of the built-in int() function, this function trims the values after the decimal point and returns only the integer/whole number part.\n",
        "\n",
        "Syntax: int(x)\n",
        "\n",
        "Return: integer value\n"
      ],
      "metadata": {
        "id": "M-bm7fhV8zth"
      }
    },
    {
      "cell_type": "code",
      "source": [
        "# conversion from float to int\n",
        "\n",
        "num = 9.3\n",
        "\n",
        "# printing data type of 'num'\n",
        "print('type:',\n",
        "      type(num).__name__)\n",
        "\n",
        "# conversion to int\n",
        "num = int(num)\n",
        "\n",
        "# printing data type of 'num'\n",
        "print('converted value:', num,\n",
        "      ', type:', type(num).__name__)\n",
        "\n",
        "\n"
      ],
      "metadata": {
        "id": "r5op4nXR830C"
      },
      "execution_count": null,
      "outputs": []
    },
    {
      "cell_type": "markdown",
      "source": [
        "Method 2: Conversion using math.floor() and math.ceil().\n",
        "\n",
        "A float value can be converted to an int value no larger than the input by using the math.floor() function, whereas it can also be converted to an int value which is the smallest integer greater than the input using math.ceil() function. The math module is to be imported in order to use these methods.\n",
        "\n",
        "Syntax: math.floor(x)\n",
        "\n",
        "Parameter:\n",
        "\n",
        "x: This is a numeric expression.\n",
        "\n",
        "Returns: largest integer not greater than x.\n",
        "\n",
        "Syntax: math.ceil(x)\n",
        "\n",
        "Parameter:\n",
        "\n",
        "x: This is a numeric expression.\n",
        "\n",
        "Returns: Smallest integer not less than x.\n",
        "\n"
      ],
      "metadata": {
        "id": "CFWfUw3n9dev"
      }
    },
    {
      "cell_type": "code",
      "source": [
        "# conversion using floor and ceil .\n",
        "\n",
        "# importing math module\n",
        "import math\n",
        "\n",
        "num = 5.6\n",
        "\n",
        "floor_value = math.floor(num)\n",
        "\n",
        "ceil_value = math.ceil(num)\n",
        "\n",
        "print(\"the result using floor() : \",\n",
        "\tfloor_value ,\n",
        "\t', type : ',type(floor_value).__name__)\n",
        "\n",
        "print(\"the result using ceil() : \",\n",
        "\tceil_value,\n",
        "\t', type: ', type(ceil_value).__name__)\n"
      ],
      "metadata": {
        "id": "DLxrYVx29RGj"
      },
      "execution_count": null,
      "outputs": []
    },
    {
      "cell_type": "markdown",
      "source": [
        "Method#3: Conversion using round( ).\n",
        "\n",
        "A float value can be converted to an int value which is closet integer value if does not pass second parameter. In case of equal difference it goes toward larger integer.\n",
        "\n",
        "Syntax: round(x)\n",
        "\n",
        "Parameter:\n",
        "\n",
        "x: This is a numeric expression.\n",
        "\n",
        "Returns: integer multiple of closest."
      ],
      "metadata": {
        "id": "8pKGRe7L9Xcy"
      }
    },
    {
      "cell_type": "code",
      "source": [
        "# conversion using round.\n",
        "\n",
        "num = 5.6\n",
        "\n",
        "# Before conversion value and type\n",
        "print( 'Type : ', type(num).__name__)\n",
        "print( \"Original number is : \", num)\n",
        "\n",
        "# conversion to int\n",
        "value = round(num)\n",
        "\n",
        "print( 'Type : ',type(value).__name__)\n",
        "print(\"the result using round : \",value)\n"
      ],
      "metadata": {
        "id": "kIuxBliZ9ST9"
      },
      "execution_count": null,
      "outputs": []
    },
    {
      "cell_type": "markdown",
      "source": [
        "Method#4: Conversion using math.trunc( ).\n",
        "\n",
        "A float value can be converted to an int value. In case of negative number it behaves like ceiling function of math library and in case of positive number it behaves like floor function..\n",
        "\n",
        "Syntax: math.trunc(x)\n",
        "\n",
        "Parameter:\n",
        "\n",
        "x: This is a numeric expression.\n",
        "\n",
        "Returns: larger integer in case of negative number else in case of positive number smaller number."
      ],
      "metadata": {
        "id": "y95x1FvD9ikw"
      }
    },
    {
      "cell_type": "code",
      "source": [
        "# conversion using math.trunc().\n",
        "\n",
        "import math\n",
        "num = 5.6\n",
        "num2 = -2.6\n",
        "\n",
        "\n",
        "# conversion of negative number to int\n",
        "value = math.trunc(num2)\n",
        "\n",
        "print( 'Type of value : ',type(value).__name__)\n",
        "print(\"the result using round : \",value)\n",
        "\n",
        "# conversion of positive number to int\n",
        "data = math.trunc(num)\n",
        "\n",
        "print( 'Type of data: ',type(data).__name__)\n",
        "print(\"the result using round : \",data)\n",
        "\n",
        "\n",
        "\n"
      ],
      "metadata": {
        "id": "Hbf7M30b9lZU"
      },
      "execution_count": null,
      "outputs": []
    },
    {
      "cell_type": "markdown",
      "source": [
        "Bayesian Estimation"
      ],
      "metadata": {
        "id": "7zggJEdFSCfY"
      }
    },
    {
      "cell_type": "code",
      "source": [
        "import numpy as np\n",
        "from scipy.stats import gamma\n",
        "\n",
        "# Function to generate Poisson data\n",
        "def generate_poisson_data(true_lambda, size):\n",
        "    return np.random.poisson(true_lambda, size)\n",
        "\n",
        "# Function for Bayesian estimation\n",
        "def bayesian_estimate(data, prior_alpha=1.0, prior_beta=1.0):\n",
        "    # Calculate the posterior parameters\n",
        "    n = len(data)\n",
        "    sum_x = np.sum(data)\n",
        "    posterior_alpha = prior_alpha + sum_x\n",
        "    posterior_beta = prior_beta + n\n",
        "\n",
        "    # Mean of the posterior Gamma distribution\n",
        "    posterior_mean = posterior_alpha / posterior_beta\n",
        "\n",
        "    return posterior_mean, posterior_alpha, posterior_beta\n",
        "\n",
        "# True lambda value\n",
        "true_lambda = 3.0\n",
        "sample_size = 100\n",
        "num_simulations = 1000\n",
        "\n",
        "# Prior parameters for the Gamma distribution\n",
        "prior_alpha = 1.0\n",
        "prior_beta = 1.0\n",
        "\n",
        "# Store the estimates from each simulation\n",
        "estimates = []\n",
        "\n",
        "for _ in range(num_simulations):\n",
        "    # Generate synthetic data\n",
        "    data = generate_poisson_data(true_lambda, sample_size)\n",
        "\n",
        "    # Perform Bayesian estimation\n",
        "    estimate, post_alpha, post_beta = bayesian_estimate(data, prior_alpha, prior_beta)\n",
        "    estimates.append(estimate)\n",
        "\n",
        "# Convert estimates to numpy array\n",
        "estimates = np.array(estimates)\n",
        "\n",
        "# Calculate bias and MSE\n",
        "bias = np.mean(estimates) - true_lambda\n",
        "mse = np.mean((estimates - true_lambda)**2)\n",
        "\n",
        "print(f\"Bayesian Estimate Bias: {bias}\")\n",
        "print(f\"Bayesian Estimate MSE: {mse}\")\n",
        "\n",
        "# Plot the distribution of estimates\n",
        "import matplotlib.pyplot as plt\n",
        "\n",
        "plt.hist(estimates, bins=30, alpha=0.7, edgecolor='k')\n",
        "plt.axvline(true_lambda, color='r', linestyle='dashed', linewidth=2, label='True λ')\n",
        "plt.title('Distribution of Bayesian Estimates of λ')\n",
        "plt.xlabel('Estimated λ')\n",
        "plt.ylabel('Frequency')\n",
        "plt.legend()\n",
        "plt.show()\n"
      ],
      "metadata": {
        "colab": {
          "base_uri": "https://localhost:8080/",
          "height": 508
        },
        "id": "K-G9lcxqQgTU",
        "outputId": "3769b96b-f93e-4499-8fb1-76f60f1865d3"
      },
      "execution_count": 51,
      "outputs": [
        {
          "output_type": "stream",
          "name": "stdout",
          "text": [
            "Bayesian Estimate Bias: -0.029871287128712787\n",
            "Bayesian Estimate MSE: 0.0302755612194883\n"
          ]
        },
        {
          "output_type": "display_data",
          "data": {
            "text/plain": [
              "<Figure size 640x480 with 1 Axes>"
            ],
            "image/png": "[encoded data removed]"
          },
          "metadata": {}
        }
      ]
    },
    {
      "cell_type": "code",
      "source": [
        "import numpy as np\n",
        "from scipy.special import gamma\n",
        "from scipy.stats import gamma as gamma_dist\n",
        "import matplotlib.pyplot as plt\n",
        "\n",
        "# Function to generate data based on the given pmf\n",
        "def generate_data(theta, size):\n",
        "    data = []\n",
        "    for _ in range(size):\n",
        "        x = 0\n",
        "        u = np.random.uniform(0, 1)\n",
        "        cum_prob = (1/theta) * (np.log(theta)**x) / np.math.factorial(x)\n",
        "        while u > cum_prob:\n",
        "            x += 1\n",
        "            cum_prob += (1/theta) * (np.log(theta)**x) / np.math.factorial(x)\n",
        "        data.append(x)\n",
        "    return np.array(data)\n",
        "\n",
        "# Function to compute the posterior distribution\n",
        "def posterior(theta, data, alpha, beta):\n",
        "    n = len(data)\n",
        "    sum_x = np.sum(data)\n",
        "    prior = (beta**alpha) * theta**(alpha - 1) * np.exp(-beta * theta) / gamma(alpha)\n",
        "    likelihood = theta**(-n) * (np.log(theta)**sum_x) * np.exp(-beta * theta)\n",
        "    return prior * likelihood\n",
        "\n",
        "# Bayesian estimation function\n",
        "def bayesian_estimate(data, alpha=2.0, beta=1.0):\n",
        "    posterior_samples = []\n",
        "    theta_range = np.linspace(1.01, 10, 1000)\n",
        "    posterior_values = [posterior(theta, data, alpha, beta) for theta in theta_range]\n",
        "    posterior_values = np.array(posterior_values)\n",
        "    posterior_values /= posterior_values.sum()  # Normalize to get a proper distribution\n",
        "\n",
        "    # Sampling from the posterior\n",
        "    sampled_thetas = np.random.choice(theta_range, size=1000, p=posterior_values)\n",
        "    posterior_mean = np.mean(sampled_thetas)\n",
        "    return posterior_mean\n",
        "\n",
        "# Monte Carlo Simulation\n",
        "true_theta = 3.0\n",
        "num_simulations = 1000\n",
        "sample_size = 100\n",
        "\n",
        "# Prior parameters for the Gamma distribution\n",
        "alpha = 2.0\n",
        "beta = 1.0\n",
        "\n",
        "estimates = []\n",
        "\n",
        "for _ in range(num_simulations):\n",
        "    data = generate_data(true_theta, sample_size)\n",
        "    estimate = bayesian_estimate(data, alpha, beta)\n",
        "    estimates.append(estimate)\n",
        "\n",
        "# Calculate bias and MSE\n",
        "estimates = np.array(estimates)\n",
        "bias = np.mean(estimates) - true_theta\n",
        "mse = np.mean((estimates - true_theta)**2)\n",
        "\n",
        "print(f\"Bayesian Estimate Bias: {bias}\")\n",
        "print(f\"Bayesian Estimate MSE: {mse}\")\n",
        "\n",
        "# Plotting the distribution of estimates\n",
        "plt.hist(estimates, bins=30, alpha=0.7, edgecolor='k')\n",
        "plt.axvline(true_theta, color='r', linestyle='dashed', linewidth=2, label='True θ')\n",
        "plt.title('Distribution of Bayesian Estimates of θ')\n",
        "plt.xlabel('Estimated θ')\n",
        "plt.ylabel('Frequency')\n",
        "plt.legend()\n",
        "plt.show()\n"
      ],
      "metadata": {
        "colab": {
          "base_uri": "https://localhost:8080/",
          "height": 599
        },
        "id": "_d78bkqiR--q",
        "outputId": "ff1242e3-81b7-4ea6-dac4-04c2f89fb68f"
      },
      "execution_count": 52,
      "outputs": [
        {
          "output_type": "stream",
          "name": "stderr",
          "text": [
            "<ipython-input-52-f6963798d4f0>:12: DeprecationWarning: `np.math` is a deprecated alias for the standard library `math` module (Deprecated Numpy 1.25). Replace usages of `np.math` with `math`\n",
            "  cum_prob = (1/theta) * (np.log(theta)**x) / np.math.factorial(x)\n",
            "<ipython-input-52-f6963798d4f0>:15: DeprecationWarning: `np.math` is a deprecated alias for the standard library `math` module (Deprecated Numpy 1.25). Replace usages of `np.math` with `math`\n",
            "  cum_prob += (1/theta) * (np.log(theta)**x) / np.math.factorial(x)\n"
          ]
        },
        {
          "output_type": "stream",
          "name": "stdout",
          "text": [
            "Bayesian Estimate Bias: -0.06976013531531544\n",
            "Bayesian Estimate MSE: 0.07871843531411256\n"
          ]
        },
        {
          "output_type": "display_data",
          "data": {
            "text/plain": [
              "<Figure size 640x480 with 1 Axes>"
            ],
            "image/png": "[encoded data removed]"
          },
          "metadata": {}
        }
      ]
    }
  ]
}